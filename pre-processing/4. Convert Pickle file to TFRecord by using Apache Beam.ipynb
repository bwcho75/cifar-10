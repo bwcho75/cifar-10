{
 "cells": [
  {
   "cell_type": "markdown",
   "metadata": {},
   "source": [
    "# Convert CIFAR-10 Image files to TF Record \n",
    "\n",
    "Apache beam is distributed parallel data processing framework.<BR>\n",
    "To make TFRecord data, it may takes long time with single machine. <BR>\n",
    "So in this notebook, it will show the way to parallelize image file to TFRecord files <BR>\n",
    "Original image files are stored in image directory and the name of the file and label are stored in CSV file. In apache beam, it will read the CSV file and based on the filename in the csv file, it will read image file and convert & merge into number of tf records files\n",
    "<p>\n",
    "Reference \n",
    "<li> https://github.com/tensorflow/transform/blob/master/examples/census_example.py </li>\n",
    "<li>https://github.com/GoogleCloudPlatform/cloudml-samples/blob/master/flowers/trainer/preprocess.py </li>\n",
    "<li>https://beam.apache.org/documentation/sdks/pydoc/2.2.0/apache_beam.io.tfrecordio.html</li>\n",
    "<li>https://gist.github.com/wwoo/42523488abb1b788a06a9775fe2329d9</li>\n",
    "\n",
    "<p>\n",
    "\n",
    "please install apache_beam SDK first <br>\n",
    "you can use \"pip install apache-beam\" command <br>\n",
    "for GCP features \"pip install apache-beam[gcp]\"<br>\n",
    "\n"
   ]
  },
  {
   "cell_type": "markdown",
   "metadata": {},
   "source": [
    "## Dataflow configuration"
   ]
  },
  {
   "cell_type": "code",
   "execution_count": 1,
   "metadata": {
    "collapsed": true
   },
   "outputs": [],
   "source": [
    "# CONFIGURATIONS\n",
    "\n",
    "SRC_DIR_DEV = '/Users/terrycho/dev/workspace/cifar-10/data/images'\n",
    "DES_DIR_DEV = '/Users/terrycho/dev/workspace/cifar-10/data/tfrecords'\n",
    "LOCAL_TMP_DIR='/tmp/'\n",
    "#SRC_BUCKET\n",
    "DES_BUCKET='terrycho-cifar-10'\n",
    "SRC_DIR_PRD = 'gs://terrycho-cifar-10/data/images'\n",
    "DES_DIR_PRD = 'gs://terrycho-cifar-10/data/tfrecords'\n",
    "PROJECT='terrycho-sandbox'\n",
    "\n",
    "SRC_DIR=''\n",
    "DES_DIR=''\n",
    "\n",
    "DEV_MODE=False\n"
   ]
  },
  {
   "cell_type": "markdown",
   "metadata": {},
   "source": [
    "## Define Python dependency \n",
    "\n",
    "If you run apache beam code in google data flow. The whole code will be uploaded into google cloud dataflow service. <br>\n",
    "In the upload, all dependency files needs to be uploaded together.<br>\n",
    "You can define python dependcy into requirements.txt file \n",
    "<p>\n",
    "please reference https://cloud.google.com/dataflow/pipelines/dependencies-python\n"
   ]
  },
  {
   "cell_type": "code",
   "execution_count": 2,
   "metadata": {},
   "outputs": [
    {
     "name": "stdout",
     "output_type": "stream",
     "text": [
      "Overwriting requirements.txt\n"
     ]
    }
   ],
   "source": [
    "%%writefile requirements.txt\n",
    "Pillow==3.3.1\n",
    "ipython==5.3.0\n",
    "ipython-genutils==0.2.0\n",
    "google-api-python-client==1.6.2\n",
    "google-cloud-storage==1.6.0"
   ]
  },
  {
   "cell_type": "code",
   "execution_count": 3,
   "metadata": {},
   "outputs": [
    {
     "name": "stderr",
     "output_type": "stream",
     "text": [
      "No handlers could be found for logger \"oauth2client.contrib.multistore_file\"\n",
      "/Users/terrycho/anaconda/envs/tensorflow13/lib/python2.7/site-packages/apache_beam/io/gcp/gcsio.py:122: DeprecationWarning: object() takes no parameters\n",
      "  super(GcsIO, cls).__new__(cls, storage_client))\n",
      "/Users/terrycho/anaconda/envs/tensorflow13/lib/python2.7/site-packages/apache_beam/coders/typecoders.py:134: UserWarning: Using fallback coder for typehint: <type 'NoneType'>.\n",
      "  warnings.warn('Using fallback coder for typehint: %r.' % typehint)\n",
      "/Users/terrycho/anaconda/envs/tensorflow13/lib/python2.7/site-packages/apache_beam/coders/typecoders.py:134: UserWarning: Using fallback coder for typehint: Any.\n",
      "  warnings.warn('Using fallback coder for typehint: %r.' % typehint)\n"
     ]
    },
    {
     "name": "stdout",
     "output_type": "stream",
     "text": [
      "Done\n"
     ]
    }
   ],
   "source": [
    "import apache_beam as beam\n",
    "import os\n",
    "import datetime\n",
    "import numpy as np\n",
    "import io\n",
    "import tensorflow as tf\n",
    "import google.auth\n",
    "\n",
    "from google.cloud import storage\n",
    "from PIL import Image\n",
    "from apache_beam.io import ReadFromText\n",
    "from apache_beam.io import WriteToText\n",
    "from apache_beam.options.pipeline_options import PipelineOptions\n",
    "from apache_beam.options.pipeline_options import SetupOptions\n",
    "\n",
    "from tensorflow.python.framework import errors\n",
    "from tensorflow.python.lib.io import file_io\n",
    "\n",
    "# set service account file into OS environment value\n",
    "os.environ[\"GOOGLE_APPLICATION_CREDENTIALS\"] = \"/Users/terrycho/keys/terrycho-sandbox-projectowner.json\"\n",
    "job_name = 'cifar-10'+ datetime.datetime.now().strftime('%y%m%d%H%M%S')\n",
    "\n",
    "options = {\n",
    "    'staging_location': 'gs://'+DES_BUCKET+'/staging',\n",
    "    'temp_location': 'gs://'+DES_BUCKET+'/tmp',\n",
    "    'job_name': job_name,\n",
    "    'project': PROJECT,\n",
    "    'zone' : 'asia-northeast1-c',\n",
    "    'teardown_policy': 'TEARDOWN_ALWAYS',\n",
    "    'no_save_main_session': True ,  \n",
    "    'requirements_file' : 'requirements.txt',\n",
    "    'save_main_session': True\n",
    "}\n",
    "opts = beam.pipeline.PipelineOptions(flags=[], **options)\n",
    "\n",
    "if(DEV_MODE):\n",
    "    RUNNER = 'DirectRunner'\n",
    "    inputfiles = SRC_DIR_DEV +'/data_batch_1.csv'\n",
    "    SRC_DIR=SRC_DIR_DEV\n",
    "    DES_DIR=DES_DIR_DEV+'/'\n",
    "else:\n",
    "    inputfiles = SRC_DIR_PRD +'/data_batch_1.csv'\n",
    "    SRC_DIR=SRC_DIR_PRD\n",
    "    DES_DIR=DES_DIR_PRD+'/'\n",
    "    RUNNER = 'DataflowRunner'\n",
    "\n",
    "# Apache beam functions\n",
    "def parseCSV(element):\n",
    "    line = str(element)\n",
    "    e = line.split(',')\n",
    "    filename = str(e[0])\n",
    "    label = int(e[1])\n",
    "    return filename,label\n",
    "\n",
    "def readImage(element):\n",
    "    filename,label = element\n",
    "\n",
    "    filepath=''\n",
    "    if(DEV_MODE):\n",
    "        filepath = SRC_DIR+'/'+filename\n",
    "    else:\n",
    "        #download file from gcs to local\n",
    "        storageClient = storage.Client()\n",
    "        source_bucket = storageClient.get_bucket(DES_BUCKET)\n",
    "        blob = source_bucket.get_blob('data/images/'+filename)\n",
    "    \n",
    "        # 1) download file\n",
    "        filepath = LOCAL_TMP_DIR+filename\n",
    "        with open(filepath,'wb') as file_obj:\n",
    "            blob.download_to_file(file_obj)\n",
    "\n",
    "    print('[MYLOG] read image :'+filepath)\n",
    "    image = open(filepath,'rb')\n",
    "    #image_bytes = image.read()\n",
    "    #img = np.array(Image.open(io.BytesIO(image_bytes)).convert('RGB'))\n",
    "    #img_raw = img.tostring()\n",
    "    #print img_raw\n",
    "    bytes = image.read()\n",
    "    image.close()\n",
    "    \n",
    "    # if it is running over dataflow, delete temp file\n",
    "    if(DEV_MODE==False):\n",
    "        os.remove(filepath)\n",
    "        \n",
    "    return bytes,label\n",
    "\n",
    "class TFExampleFromImageDoFn(beam.DoFn):\n",
    "    def process(self,element):\n",
    "        def _bytes_feature(value):\n",
    "          return tf.train.Feature(bytes_list=tf.train.BytesList(value=value))\n",
    "\n",
    "        def _float_feature(value):\n",
    "          return tf.train.Feature(float_list=tf.train.FloatList(value=value))\n",
    "\n",
    "        def _int64_feature(value):\n",
    "          return tf.train.Feature(int64_list=tf.train.Int64List(value=value))\n",
    "        try:\n",
    "            element = element.element\n",
    "        except AttributeError:\n",
    "            pass\n",
    "        bytes,label = element\n",
    "        \n",
    "        example = tf.train.Example(features=tf.train.Features(feature={\n",
    "            'image_raw': _bytes_feature([bytes]),\n",
    "            'label':_int64_feature([label])\n",
    "        }))\n",
    "        \n",
    "        yield example\n",
    "        \n",
    "#def ImageToTfRecord(imagefile,label):\n",
    "\n",
    "def run():\n",
    "    p = beam.Pipeline(RUNNER,options=opts)\n",
    "    l = (p\n",
    "         | 'Read CSV' >> ReadFromText(inputfiles)\n",
    "         | 'Parse CSV' >> beam.Map(parseCSV)\n",
    "         | 'ReadImage' >> beam.Map(readImage)\n",
    "         | 'Convert Image and Label to tf.train.example' >> beam.ParDo(TFExampleFromImageDoFn())\n",
    "         | 'Serialized to String' >> beam.Map(lambda x:x.SerializeToString())\n",
    "         | 'Save To Disk' >> beam.io.WriteToTFRecord(DES_DIR+'cifar-10',file_name_suffix='.tfrecord')\n",
    "        )\n",
    "    job = p.run()\n",
    "    job.wait_until_finish()\n",
    "    \n",
    "run()\n",
    "print('Done')"
   ]
  },
  {
   "cell_type": "code",
   "execution_count": 9,
   "metadata": {},
   "outputs": [
    {
     "data": {
      "image/png": "[encoded data removed]",
      "text/plain": [
       "<matplotlib.figure.Figure at 0x11d6fefd0>"
      ]
     },
     "metadata": {},
     "output_type": "display_data"
    },
    {
     "name": "stdout",
     "output_type": "stream",
     "text": [
      "Label : SparseTensorValue(indices=array([[0]]), values=array([6]), dense_shape=array([1]))\n"
     ]
    },
    {
     "data": {
      "image/png": "[encoded data removed]",
      "text/plain": [
       "<matplotlib.figure.Figure at 0x10cb48890>"
      ]
     },
     "metadata": {},
     "output_type": "display_data"
    },
    {
     "name": "stdout",
     "output_type": "stream",
     "text": [
      "Label : SparseTensorValue(indices=array([[0]]), values=array([8]), dense_shape=array([1]))\n"
     ]
    },
    {
     "data": {
      "image/png": "[encoded data removed]",
      "text/plain": [
       "<matplotlib.figure.Figure at 0x11919d0d0>"
      ]
     },
     "metadata": {},
     "output_type": "display_data"
    },
    {
     "name": "stdout",
     "output_type": "stream",
     "text": [
      "Label : SparseTensorValue(indices=array([[0]]), values=array([2]), dense_shape=array([1]))\n"
     ]
    }
   ],
   "source": [
    "# read tfrecord and print image and label\n",
    "\n",
    "import tensorflow as tf\n",
    "from PIL import Image\n",
    "import io\n",
    "import matplotlib.pyplot as plt\n",
    "\n",
    "#tfrecord_filename = DES_DIR+'cifar-10-00000-of-00010.tfrecord'\n",
    "tfrecord_filename = '/Users/terrycho/Downloads/data-tfrecords-cifar-10-00007-of-00030.tfrecord'\n",
    "def readRecord(filename_queue):\n",
    "    reader = tf.TFRecordReader()\n",
    "    _,serialized_example = reader.read(filename_queue)\n",
    "    \n",
    "    keys_to_features = {\n",
    "      'image_raw': tf.FixedLenFeature((), tf.string, default_value=''),\n",
    "      'label': tf.VarLenFeature(tf.int64),\n",
    "    }\n",
    "    \n",
    "    features = tf.parse_single_example(serialized_example,features= keys_to_features)\n",
    "    \n",
    "    encoded = tf.cast(features['image_raw'],tf.string)\n",
    "    label = tf.cast(features['label'],tf.int64)\n",
    "\n",
    "    return encoded,label\n",
    "    \n",
    "def main():\n",
    "     filename_queue = tf.train.string_input_producer([tfrecord_filename])\n",
    "     encoded,label = readRecord(filename_queue)\n",
    "     \n",
    "     init_op = tf.global_variables_initializer()\n",
    "\n",
    "     with tf.Session() as sess:\n",
    "         sess.run(init_op)\n",
    "    \n",
    "         coord = tf.train.Coordinator()\n",
    "         threads = tf.train.start_queue_runners(coord=coord)\n",
    "\n",
    "         for i in range(0,3):\n",
    "             encoded_value,label_value = sess.run([encoded,label])\n",
    "             image = Image.open(io.BytesIO(encoded_value))\n",
    "             plt.imshow(image)\n",
    "             plt.show()\n",
    "             print('Label : '+str(label_value))\n",
    "\n",
    "         coord.request_stop()\n",
    "         coord.join(threads)\n",
    "         \n",
    "main()"
   ]
  },
  {
   "cell_type": "code",
   "execution_count": null,
   "metadata": {
    "collapsed": true
   },
   "outputs": [],
   "source": []
  }
 ],
 "metadata": {
  "kernelspec": {
   "display_name": "Python 2",
   "language": "python",
   "name": "python2"
  },
  "language_info": {
   "codemirror_mode": {
    "name": "ipython",
    "version": 2
   },
   "file_extension": ".py",
   "mimetype": "text/x-python",
   "name": "python",
   "nbconvert_exporter": "python",
   "pygments_lexer": "ipython2",
   "version": "2.7.13"
  }
 },
 "nbformat": 4,
 "nbformat_minor": 2
}
