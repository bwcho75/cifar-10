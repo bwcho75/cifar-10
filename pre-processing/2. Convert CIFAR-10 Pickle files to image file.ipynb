{
 "cells": [
  {
   "cell_type": "markdown",
   "metadata": {},
   "source": [
    "# Convert CIFRAR-10 Python Pickle file to image file\n",
    "\n",
    "Extract image and label and write it into destination directories<BR>\n",
    "it will extract 60,000 images from pickle files.<BR>\n",
    "in csv file, it will have file name and label.\n",
    "It will have total 6 csv files<BR>\n",
    "in the directory, images will be written with PNG format<BR>\n"
   ]
  },
  {
   "cell_type": "code",
   "execution_count": 26,
   "metadata": {
    "collapsed": true
   },
   "outputs": [],
   "source": [
    "SRC_DIR='/Users/terrycho/dev/workspace/cifar-10/data/original'\n",
    "DES_DIR='/Users/terrycho/dev/workspace/cifar-10/data/images'"
   ]
  },
  {
   "cell_type": "code",
   "execution_count": 31,
   "metadata": {},
   "outputs": [
    {
     "name": "stdout",
     "output_type": "stream",
     "text": [
      "cleansing destination directoy has been done\n"
     ]
    }
   ],
   "source": [
    "# clean up destination dir first\n",
    "import os,shutil\n",
    "for the_file in os.listdir(DES_DIR):\n",
    "    file_path = os.path.join(DES_DIR,the_file)\n",
    "    try:\n",
    "        if os.path.isfile(file_path):\n",
    "            os.unlink(file_path)\n",
    "    except Exception as e:\n",
    "        print(e)\n",
    "\n",
    "print('cleansing destination directoy has been done')"
   ]
  },
  {
   "cell_type": "code",
   "execution_count": 33,
   "metadata": {},
   "outputs": [
    {
     "name": "stdout",
     "output_type": "stream",
     "text": [
      "processing data_batch_1\n",
      "File :data_batch_1.csv\n",
      "Writing :10000\n",
      "processing data_batch_2\n",
      "File :data_batch_2.csv\n",
      "Writing :10000\n",
      "processing data_batch_3\n",
      "File :data_batch_3.csv\n",
      "Writing :10000\n",
      "processing data_batch_4\n",
      "File :data_batch_4.csv\n",
      "Writing :10000\n",
      "processing data_batch_5\n",
      "File :data_batch_5.csv\n",
      "Writing :10000\n",
      "processing test_batch\n",
      "File :test_batch.csv\n",
      "Writing :10000\n"
     ]
    }
   ],
   "source": [
    "import cPickle\n",
    "import numpy as np\n",
    "from PIL import Image\n",
    "\n",
    "PICKLE_FILES = ['data_batch_1','data_batch_2','data_batch_3','data_batch_4','data_batch_5','test_batch']\n",
    "\n",
    "def unpickle(file):\n",
    "    import cPickle\n",
    "    with open(file, 'rb') as fo:\n",
    "        dict = cPickle.load(fo)\n",
    "    data = dict.get('data')\n",
    "    labels = dict.get('labels') #narray\n",
    "    filenames = dict.get('filenames')\n",
    "    size = len(data)\n",
    "    return size,data,labels,filenames\n",
    "\n",
    "def writeToImage(desDir,flat_image,label,filename):    \n",
    "    R = flat_image[0:1024].reshape((32,32))\n",
    "    G = flat_image[1024:2048].reshape((32,32))\n",
    "    B = flat_image[2048:3072].reshape((32,32))\n",
    "    img_array = np.dstack((R,G,B))\n",
    "    img = Image.fromarray(img_array,mode='RGB')\n",
    "    img.save(desDir+'/'+filename,'PNG')\n",
    "    \n",
    "def pickleToImage(desDir,picklefile,pickefile):\n",
    "    size,data,labels,filenames = unpickle(picklefile)\n",
    "    metafilename=desDir+'/'+pickefile+'.csv'\n",
    "    metafile = open(metafilename,'w')\n",
    "    print('File :'+pickefile+'.csv')\n",
    "    print('Writing :'+str(size))\n",
    "    for i in range(0,size):\n",
    "        writeToImage(desDir,data[i],labels[i],filenames[i])\n",
    "        metafile.write(filenames[i]+','+str(labels[i])+'\\n')\n",
    "    metafile.close()\n",
    "\n",
    "metafilename = DES_DIR+'/meta'\n",
    "\n",
    "for picklefile in PICKLE_FILES:\n",
    "    print 'processing ' + picklefile\n",
    "    pickleToImage(DES_DIR,SRC_DIR+'/'+picklefile,picklefile)\n",
    "    \n",
    "\n"
   ]
  },
  {
   "cell_type": "code",
   "execution_count": null,
   "metadata": {
    "collapsed": true
   },
   "outputs": [],
   "source": []
  }
 ],
 "metadata": {
  "kernelspec": {
   "display_name": "Python 2",
   "language": "python",
   "name": "python2"
  },
  "language_info": {
   "codemirror_mode": {
    "name": "ipython",
    "version": 2
   },
   "file_extension": ".py",
   "mimetype": "text/x-python",
   "name": "python",
   "nbconvert_exporter": "python",
   "pygments_lexer": "ipython2",
   "version": "2.7.13"
  }
 },
 "nbformat": 4,
 "nbformat_minor": 2
}
