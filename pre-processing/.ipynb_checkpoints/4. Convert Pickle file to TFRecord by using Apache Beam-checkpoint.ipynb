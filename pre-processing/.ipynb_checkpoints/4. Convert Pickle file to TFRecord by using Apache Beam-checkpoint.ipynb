{
 "cells": [
  {
   "cell_type": "markdown",
   "metadata": {},
   "source": [
    "# Convert CIFAR-10 Image files to TF Record \n",
    "\n",
    "Apache beam is distributed parallel data processing framework.<BR>\n",
    "To make TFRecord data, it may takes long time with single machine. <BR>\n",
    "So in this notebook, it will show the way to parallelize image file to TFRecord files <BR>\n",
    "Original image files are stored in image directory and the name of the file and label are stored in CSV file. In apache beam, it will read the CSV file and based on the filename in the csv file, it will read image file and convert & merge into number of tf records files\n",
    "<p>\n",
    "Reference \n",
    "<li> https://github.com/tensorflow/transform/blob/master/examples/census_example.py </li>\n",
    "<li>https://github.com/GoogleCloudPlatform/cloudml-samples/blob/master/flowers/trainer/preprocess.py </li>\n",
    "<li>https://beam.apache.org/documentation/sdks/pydoc/2.2.0/apache_beam.io.tfrecordio.html</li>\n",
    "<li>https://gist.github.com/wwoo/42523488abb1b788a06a9775fe2329d9</li>\n",
    "\n",
    "<p>\n",
    "\n",
    "please install apache_beam SDK first <br>\n",
    "you can use \"pip install apache-beam\" command <br>\n",
    "for GCP features \"pip install apache-beam[gcp]\"<br>\n",
    "\n"
   ]
  },
  {
   "cell_type": "markdown",
   "metadata": {},
   "source": [
    "## Dataflow configuration"
   ]
  },
  {
   "cell_type": "code",
   "execution_count": 1,
   "metadata": {
    "collapsed": true
   },
   "outputs": [],
   "source": [
    "# CONFIGURATIONS\n",
    "\n",
    "SRC_DIR_DEV = '/Users/terrycho/dev/workspace/cifar-10/data/images'\n",
    "DES_DIR_DEV = '/Users/terrycho/dev/workspace/cifar-10/data/tfrecords'\n",
    "LOCAL_TMP_DIR='/tmp/'\n",
    "#SRC_BUCKET\n",
    "DES_BUCKET='terrycho-cifar-10'\n",
    "SRC_DIR_PRD = 'gs://terrycho-cifar-10/data/images'\n",
    "DES_DIR_PRD = 'gs://terrycho-cifar-10/data/tfrecords'\n",
    "PROJECT='terrycho-sandbox'\n",
    "\n",
    "SRC_DIR=''\n",
    "DES_DIR=''\n",
    "\n",
    "DEV_MODE=False\n"
   ]
  },
  {
   "cell_type": "markdown",
   "metadata": {},
   "source": [
    "## Define Python dependency \n",
    "\n",
    "If you run apache beam code in google data flow. The whole code will be uploaded into google cloud dataflow service. <br>\n",
    "In the upload, all dependency files needs to be uploaded together.<br>\n",
    "You can define python dependcy into requirements.txt file \n",
    "<p>\n",
    "please reference https://cloud.google.com/dataflow/pipelines/dependencies-python\n"
   ]
  },
  {
   "cell_type": "code",
   "execution_count": 2,
   "metadata": {},
   "outputs": [
    {
     "name": "stdout",
     "output_type": "stream",
     "text": [
      "Overwriting requirements.txt\n"
     ]
    }
   ],
   "source": [
    "%%writefile requirements.txt\n",
    "Pillow==3.3.1\n",
    "ipython==5.3.0\n",
    "ipython-genutils==0.2.0\n",
    "google-api-python-client==1.6.2\n",
    "google-cloud-storage==1.6.0"
   ]
  },
  {
   "cell_type": "code",
   "execution_count": 3,
   "metadata": {},
   "outputs": [
    {
     "name": "stderr",
     "output_type": "stream",
     "text": [
      "No handlers could be found for logger \"oauth2client.contrib.multistore_file\"\n",
      "/Users/terrycho/anaconda/envs/tensorflow13/lib/python2.7/site-packages/apache_beam/io/gcp/gcsio.py:122: DeprecationWarning: object() takes no parameters\n",
      "  super(GcsIO, cls).__new__(cls, storage_client))\n",
      "/Users/terrycho/anaconda/envs/tensorflow13/lib/python2.7/site-packages/apache_beam/coders/typecoders.py:134: UserWarning: Using fallback coder for typehint: <type 'NoneType'>.\n",
      "  warnings.warn('Using fallback coder for typehint: %r.' % typehint)\n",
      "/Users/terrycho/anaconda/envs/tensorflow13/lib/python2.7/site-packages/apache_beam/coders/typecoders.py:134: UserWarning: Using fallback coder for typehint: Any.\n",
      "  warnings.warn('Using fallback coder for typehint: %r.' % typehint)\n"
     ]
    },
    {
     "name": "stdout",
     "output_type": "stream",
     "text": [
      "Done\n"
     ]
    }
   ],
   "source": [
    "import apache_beam as beam\n",
    "import os\n",
    "import datetime\n",
    "import numpy as np\n",
    "import io\n",
    "import tensorflow as tf\n",
    "import google.auth\n",
    "\n",
    "from google.cloud import storage\n",
    "from PIL import Image\n",
    "from apache_beam.io import ReadFromText\n",
    "from apache_beam.io import WriteToText\n",
    "from apache_beam.options.pipeline_options import PipelineOptions\n",
    "from apache_beam.options.pipeline_options import SetupOptions\n",
    "\n",
    "from tensorflow.python.framework import errors\n",
    "from tensorflow.python.lib.io import file_io\n",
    "\n",
    "# set service account file into OS environment value\n",
    "os.environ[\"GOOGLE_APPLICATION_CREDENTIALS\"] = \"/Users/terrycho/keys/terrycho-sandbox-projectowner.json\"\n",
    "job_name = 'cifar-10'+ datetime.datetime.now().strftime('%y%m%d%H%M%S')\n",
    "\n",
    "options = {\n",
    "    'staging_location': 'gs://'+DES_BUCKET+'/staging',\n",
    "    'temp_location': 'gs://'+DES_BUCKET+'/tmp',\n",
    "    'job_name': job_name,\n",
    "    'project': PROJECT,\n",
    "    'zone' : 'asia-northeast1-c',\n",
    "    'teardown_policy': 'TEARDOWN_ALWAYS',\n",
    "    'no_save_main_session': True ,  \n",
    "    'requirements_file' : 'requirements.txt',\n",
    "    'save_main_session': True\n",
    "}\n",
    "opts = beam.pipeline.PipelineOptions(flags=[], **options)\n",
    "\n",
    "if(DEV_MODE):\n",
    "    RUNNER = 'DirectRunner'\n",
    "    inputfiles = SRC_DIR_DEV +'/data_batch_1.csv'\n",
    "    SRC_DIR=SRC_DIR_DEV\n",
    "    DES_DIR=DES_DIR_DEV+'/'\n",
    "else:\n",
    "    inputfiles = SRC_DIR_PRD +'/data_batch_1.csv'\n",
    "    SRC_DIR=SRC_DIR_PRD\n",
    "    DES_DIR=DES_DIR_PRD+'/'\n",
    "    RUNNER = 'DataflowRunner'\n",
    "\n",
    "# Apache beam functions\n",
    "def parseCSV(element):\n",
    "    line = str(element)\n",
    "    e = line.split(',')\n",
    "    filename = str(e[0])\n",
    "    label = int(e[1])\n",
    "    return filename,label\n",
    "\n",
    "def readImage(element):\n",
    "    filename,label = element\n",
    "\n",
    "    filepath=''\n",
    "    if(DEV_MODE):\n",
    "        filepath = SRC_DIR+'/'+filename\n",
    "    else:\n",
    "        #download file from gcs to local\n",
    "        storageClient = storage.Client()\n",
    "        source_bucket = storageClient.get_bucket(DES_BUCKET)\n",
    "        blob = source_bucket.get_blob('data/images/'+filename)\n",
    "    \n",
    "        # 1) download file\n",
    "        filepath = LOCAL_TMP_DIR+filename\n",
    "        with open(filepath,'wb') as file_obj:\n",
    "            blob.download_to_file(file_obj)\n",
    "\n",
    "    print('[MYLOG] read image :'+filepath)\n",
    "    image = open(filepath,'rb')\n",
    "    #image_bytes = image.read()\n",
    "    #img = np.array(Image.open(io.BytesIO(image_bytes)).convert('RGB'))\n",
    "    #img_raw = img.tostring()\n",
    "    #print img_raw\n",
    "    bytes = image.read()\n",
    "    image.close()\n",
    "    \n",
    "    # if it is running over dataflow, delete temp file\n",
    "    if(DEV_MODE==False):\n",
    "        os.remove(filepath)\n",
    "        \n",
    "    return bytes,label\n",
    "\n",
    "class TFExampleFromImageDoFn(beam.DoFn):\n",
    "    def process(self,element):\n",
    "        def _bytes_feature(value):\n",
    "          return tf.train.Feature(bytes_list=tf.train.BytesList(value=value))\n",
    "\n",
    "        def _float_feature(value):\n",
    "          return tf.train.Feature(float_list=tf.train.FloatList(value=value))\n",
    "\n",
    "        def _int64_feature(value):\n",
    "          return tf.train.Feature(int64_list=tf.train.Int64List(value=value))\n",
    "        try:\n",
    "            element = element.element\n",
    "        except AttributeError:\n",
    "            pass\n",
    "        bytes,label = element\n",
    "        \n",
    "        example = tf.train.Example(features=tf.train.Features(feature={\n",
    "            'image_raw': _bytes_feature([bytes]),\n",
    "            'label':_int64_feature([label])\n",
    "        }))\n",
    "        \n",
    "        yield example\n",
    "        \n",
    "#def ImageToTfRecord(imagefile,label):\n",
    "\n",
    "def run():\n",
    "    p = beam.Pipeline(RUNNER,options=opts)\n",
    "    l = (p\n",
    "         | 'Read CSV' >> ReadFromText(inputfiles)\n",
    "         | 'Parse CSV' >> beam.Map(parseCSV)\n",
    "         | 'ReadImage' >> beam.Map(readImage)\n",
    "         | 'Convert Image and Label to tf.train.example' >> beam.ParDo(TFExampleFromImageDoFn())\n",
    "         | 'Serialized to String' >> beam.Map(lambda x:x.SerializeToString())\n",
    "         | 'Save To Disk' >> beam.io.WriteToTFRecord(DES_DIR+'cifar-10',file_name_suffix='.tfrecord')\n",
    "        )\n",
    "    job = p.run()\n",
    "    job.wait_until_finish()\n",
    "    \n",
    "run()\n",
    "print('Done')"
   ]
  },
  {
   "cell_type": "code",
   "execution_count": 8,
   "metadata": {},
   "outputs": [
    {
     "name": "stdout",
     "output_type": "stream",
     "text": [
      "INFO:tensorflow:Error reported to Coordinator: <class 'tensorflow.python.framework.errors_impl.CancelledError'>, Session has been closed.\n"
     ]
    },
    {
     "name": "stderr",
     "output_type": "stream",
     "text": [
      "INFO:tensorflow:Error reported to Coordinator: <class 'tensorflow.python.framework.errors_impl.CancelledError'>, Session has been closed.\n"
     ]
    },
    {
     "ename": "NotFoundError",
     "evalue": "/Users/terrycho/Downloads/data\\%2Ftfrecords\\%2Fcifar-10-00007-of-00030.tfrecord\n\t [[Node: ReaderReadV2_4 = ReaderReadV2[_device=\"/job:localhost/replica:0/task:0/cpu:0\"](TFRecordReaderV2_4, input_producer_4)]]\n\nCaused by op u'ReaderReadV2_4', defined at:\n  File \"/Users/terrycho/anaconda/envs/tensorflow13/lib/python2.7/runpy.py\", line 174, in _run_module_as_main\n    \"__main__\", fname, loader, pkg_name)\n  File \"/Users/terrycho/anaconda/envs/tensorflow13/lib/python2.7/runpy.py\", line 72, in _run_code\n    exec code in run_globals\n  File \"/Users/terrycho/anaconda/envs/tensorflow13/lib/python2.7/site-packages/ipykernel_launcher.py\", line 16, in <module>\n    app.launch_new_instance()\n  File \"/Users/terrycho/anaconda/envs/tensorflow13/lib/python2.7/site-packages/traitlets/config/application.py\", line 658, in launch_instance\n    app.start()\n  File \"/Users/terrycho/anaconda/envs/tensorflow13/lib/python2.7/site-packages/ipykernel/kernelapp.py\", line 477, in start\n    ioloop.IOLoop.instance().start()\n  File \"/Users/terrycho/anaconda/envs/tensorflow13/lib/python2.7/site-packages/zmq/eventloop/ioloop.py\", line 177, in start\n    super(ZMQIOLoop, self).start()\n  File \"/Users/terrycho/anaconda/envs/tensorflow13/lib/python2.7/site-packages/tornado/ioloop.py\", line 888, in start\n    handler_func(fd_obj, events)\n  File \"/Users/terrycho/anaconda/envs/tensorflow13/lib/python2.7/site-packages/tornado/stack_context.py\", line 277, in null_wrapper\n    return fn(*args, **kwargs)\n  File \"/Users/terrycho/anaconda/envs/tensorflow13/lib/python2.7/site-packages/zmq/eventloop/zmqstream.py\", line 440, in _handle_events\n    self._handle_recv()\n  File \"/Users/terrycho/anaconda/envs/tensorflow13/lib/python2.7/site-packages/zmq/eventloop/zmqstream.py\", line 472, in _handle_recv\n    self._run_callback(callback, msg)\n  File \"/Users/terrycho/anaconda/envs/tensorflow13/lib/python2.7/site-packages/zmq/eventloop/zmqstream.py\", line 414, in _run_callback\n    callback(*args, **kwargs)\n  File \"/Users/terrycho/anaconda/envs/tensorflow13/lib/python2.7/site-packages/tornado/stack_context.py\", line 277, in null_wrapper\n    return fn(*args, **kwargs)\n  File \"/Users/terrycho/anaconda/envs/tensorflow13/lib/python2.7/site-packages/ipykernel/kernelbase.py\", line 283, in dispatcher\n    return self.dispatch_shell(stream, msg)\n  File \"/Users/terrycho/anaconda/envs/tensorflow13/lib/python2.7/site-packages/ipykernel/kernelbase.py\", line 235, in dispatch_shell\n    handler(stream, idents, msg)\n  File \"/Users/terrycho/anaconda/envs/tensorflow13/lib/python2.7/site-packages/ipykernel/kernelbase.py\", line 399, in execute_request\n    user_expressions, allow_stdin)\n  File \"/Users/terrycho/anaconda/envs/tensorflow13/lib/python2.7/site-packages/ipykernel/ipkernel.py\", line 196, in do_execute\n    res = shell.run_cell(code, store_history=store_history, silent=silent)\n  File \"/Users/terrycho/anaconda/envs/tensorflow13/lib/python2.7/site-packages/ipykernel/zmqshell.py\", line 533, in run_cell\n    return super(ZMQInteractiveShell, self).run_cell(*args, **kwargs)\n  File \"/Users/terrycho/anaconda/envs/tensorflow13/lib/python2.7/site-packages/IPython/core/interactiveshell.py\", line 2717, in run_cell\n    interactivity=interactivity, compiler=compiler, result=result)\n  File \"/Users/terrycho/anaconda/envs/tensorflow13/lib/python2.7/site-packages/IPython/core/interactiveshell.py\", line 2827, in run_ast_nodes\n    if self.run_code(code, result):\n  File \"/Users/terrycho/anaconda/envs/tensorflow13/lib/python2.7/site-packages/IPython/core/interactiveshell.py\", line 2881, in run_code\n    exec(code_obj, self.user_global_ns, self.user_ns)\n  File \"<ipython-input-8-b2882fc8e5a6>\", line 48, in <module>\n    main()\n  File \"<ipython-input-8-b2882fc8e5a6>\", line 28, in main\n    encoded,label = readRecord(filename_queue)\n  File \"<ipython-input-8-b2882fc8e5a6>\", line 12, in readRecord\n    _,serialized_example = reader.read(filename_queue)\n  File \"/Users/terrycho/anaconda/envs/tensorflow13/lib/python2.7/site-packages/tensorflow/python/ops/io_ops.py\", line 194, in read\n    return gen_io_ops._reader_read_v2(self._reader_ref, queue_ref, name=name)\n  File \"/Users/terrycho/anaconda/envs/tensorflow13/lib/python2.7/site-packages/tensorflow/python/ops/gen_io_ops.py\", line 423, in _reader_read_v2\n    queue_handle=queue_handle, name=name)\n  File \"/Users/terrycho/anaconda/envs/tensorflow13/lib/python2.7/site-packages/tensorflow/python/framework/op_def_library.py\", line 767, in apply_op\n    op_def=op_def)\n  File \"/Users/terrycho/anaconda/envs/tensorflow13/lib/python2.7/site-packages/tensorflow/python/framework/ops.py\", line 2630, in create_op\n    original_op=self._default_original_op, op_def=op_def)\n  File \"/Users/terrycho/anaconda/envs/tensorflow13/lib/python2.7/site-packages/tensorflow/python/framework/ops.py\", line 1204, in __init__\n    self._traceback = self._graph._extract_stack()  # pylint: disable=protected-access\n\nNotFoundError (see above for traceback): /Users/terrycho/Downloads/data\\%2Ftfrecords\\%2Fcifar-10-00007-of-00030.tfrecord\n\t [[Node: ReaderReadV2_4 = ReaderReadV2[_device=\"/job:localhost/replica:0/task:0/cpu:0\"](TFRecordReaderV2_4, input_producer_4)]]\n",
     "output_type": "error",
     "traceback": [
      "\u001b[0;31m---------------------------------------------------------------------------\u001b[0m",
      "\u001b[0;31mNotFoundError\u001b[0m                             Traceback (most recent call last)",
      "\u001b[0;32m<ipython-input-8-b2882fc8e5a6>\u001b[0m in \u001b[0;36m<module>\u001b[0;34m()\u001b[0m\n\u001b[1;32m     46\u001b[0m          \u001b[0mcoord\u001b[0m\u001b[0;34m.\u001b[0m\u001b[0mjoin\u001b[0m\u001b[0;34m(\u001b[0m\u001b[0mthreads\u001b[0m\u001b[0;34m)\u001b[0m\u001b[0;34m\u001b[0m\u001b[0m\n\u001b[1;32m     47\u001b[0m \u001b[0;34m\u001b[0m\u001b[0m\n\u001b[0;32m---> 48\u001b[0;31m \u001b[0mmain\u001b[0m\u001b[0;34m(\u001b[0m\u001b[0;34m)\u001b[0m\u001b[0;34m\u001b[0m\u001b[0m\n\u001b[0m",
      "\u001b[0;32m<ipython-input-8-b2882fc8e5a6>\u001b[0m in \u001b[0;36mmain\u001b[0;34m()\u001b[0m\n\u001b[1;32m     37\u001b[0m \u001b[0;34m\u001b[0m\u001b[0m\n\u001b[1;32m     38\u001b[0m          \u001b[0;32mfor\u001b[0m \u001b[0mi\u001b[0m \u001b[0;32min\u001b[0m \u001b[0mrange\u001b[0m\u001b[0;34m(\u001b[0m\u001b[0;36m0\u001b[0m\u001b[0;34m,\u001b[0m\u001b[0;36m3\u001b[0m\u001b[0;34m)\u001b[0m\u001b[0;34m:\u001b[0m\u001b[0;34m\u001b[0m\u001b[0m\n\u001b[0;32m---> 39\u001b[0;31m              \u001b[0mencoded_value\u001b[0m\u001b[0;34m,\u001b[0m\u001b[0mlabel_value\u001b[0m \u001b[0;34m=\u001b[0m \u001b[0msess\u001b[0m\u001b[0;34m.\u001b[0m\u001b[0mrun\u001b[0m\u001b[0;34m(\u001b[0m\u001b[0;34m[\u001b[0m\u001b[0mencoded\u001b[0m\u001b[0;34m,\u001b[0m\u001b[0mlabel\u001b[0m\u001b[0;34m]\u001b[0m\u001b[0;34m)\u001b[0m\u001b[0;34m\u001b[0m\u001b[0m\n\u001b[0m\u001b[1;32m     40\u001b[0m              \u001b[0mimage\u001b[0m \u001b[0;34m=\u001b[0m \u001b[0mImage\u001b[0m\u001b[0;34m.\u001b[0m\u001b[0mopen\u001b[0m\u001b[0;34m(\u001b[0m\u001b[0mio\u001b[0m\u001b[0;34m.\u001b[0m\u001b[0mBytesIO\u001b[0m\u001b[0;34m(\u001b[0m\u001b[0mencoded_value\u001b[0m\u001b[0;34m)\u001b[0m\u001b[0;34m)\u001b[0m\u001b[0;34m\u001b[0m\u001b[0m\n\u001b[1;32m     41\u001b[0m              \u001b[0mplt\u001b[0m\u001b[0;34m.\u001b[0m\u001b[0mimshow\u001b[0m\u001b[0;34m(\u001b[0m\u001b[0mimage\u001b[0m\u001b[0;34m)\u001b[0m\u001b[0;34m\u001b[0m\u001b[0m\n",
      "\u001b[0;32m/Users/terrycho/anaconda/envs/tensorflow13/lib/python2.7/site-packages/tensorflow/python/client/session.pyc\u001b[0m in \u001b[0;36mrun\u001b[0;34m(self, fetches, feed_dict, options, run_metadata)\u001b[0m\n\u001b[1;32m    893\u001b[0m     \u001b[0;32mtry\u001b[0m\u001b[0;34m:\u001b[0m\u001b[0;34m\u001b[0m\u001b[0m\n\u001b[1;32m    894\u001b[0m       result = self._run(None, fetches, feed_dict, options_ptr,\n\u001b[0;32m--> 895\u001b[0;31m                          run_metadata_ptr)\n\u001b[0m\u001b[1;32m    896\u001b[0m       \u001b[0;32mif\u001b[0m \u001b[0mrun_metadata\u001b[0m\u001b[0;34m:\u001b[0m\u001b[0;34m\u001b[0m\u001b[0m\n\u001b[1;32m    897\u001b[0m         \u001b[0mproto_data\u001b[0m \u001b[0;34m=\u001b[0m \u001b[0mtf_session\u001b[0m\u001b[0;34m.\u001b[0m\u001b[0mTF_GetBuffer\u001b[0m\u001b[0;34m(\u001b[0m\u001b[0mrun_metadata_ptr\u001b[0m\u001b[0;34m)\u001b[0m\u001b[0;34m\u001b[0m\u001b[0m\n",
      "\u001b[0;32m/Users/terrycho/anaconda/envs/tensorflow13/lib/python2.7/site-packages/tensorflow/python/client/session.pyc\u001b[0m in \u001b[0;36m_run\u001b[0;34m(self, handle, fetches, feed_dict, options, run_metadata)\u001b[0m\n\u001b[1;32m   1122\u001b[0m     \u001b[0;32mif\u001b[0m \u001b[0mfinal_fetches\u001b[0m \u001b[0;32mor\u001b[0m \u001b[0mfinal_targets\u001b[0m \u001b[0;32mor\u001b[0m \u001b[0;34m(\u001b[0m\u001b[0mhandle\u001b[0m \u001b[0;32mand\u001b[0m \u001b[0mfeed_dict_tensor\u001b[0m\u001b[0;34m)\u001b[0m\u001b[0;34m:\u001b[0m\u001b[0;34m\u001b[0m\u001b[0m\n\u001b[1;32m   1123\u001b[0m       results = self._do_run(handle, final_targets, final_fetches,\n\u001b[0;32m-> 1124\u001b[0;31m                              feed_dict_tensor, options, run_metadata)\n\u001b[0m\u001b[1;32m   1125\u001b[0m     \u001b[0;32melse\u001b[0m\u001b[0;34m:\u001b[0m\u001b[0;34m\u001b[0m\u001b[0m\n\u001b[1;32m   1126\u001b[0m       \u001b[0mresults\u001b[0m \u001b[0;34m=\u001b[0m \u001b[0;34m[\u001b[0m\u001b[0;34m]\u001b[0m\u001b[0;34m\u001b[0m\u001b[0m\n",
      "\u001b[0;32m/Users/terrycho/anaconda/envs/tensorflow13/lib/python2.7/site-packages/tensorflow/python/client/session.pyc\u001b[0m in \u001b[0;36m_do_run\u001b[0;34m(self, handle, target_list, fetch_list, feed_dict, options, run_metadata)\u001b[0m\n\u001b[1;32m   1319\u001b[0m     \u001b[0;32mif\u001b[0m \u001b[0mhandle\u001b[0m \u001b[0;32mis\u001b[0m \u001b[0mNone\u001b[0m\u001b[0;34m:\u001b[0m\u001b[0;34m\u001b[0m\u001b[0m\n\u001b[1;32m   1320\u001b[0m       return self._do_call(_run_fn, self._session, feeds, fetches, targets,\n\u001b[0;32m-> 1321\u001b[0;31m                            options, run_metadata)\n\u001b[0m\u001b[1;32m   1322\u001b[0m     \u001b[0;32melse\u001b[0m\u001b[0;34m:\u001b[0m\u001b[0;34m\u001b[0m\u001b[0m\n\u001b[1;32m   1323\u001b[0m       \u001b[0;32mreturn\u001b[0m \u001b[0mself\u001b[0m\u001b[0;34m.\u001b[0m\u001b[0m_do_call\u001b[0m\u001b[0;34m(\u001b[0m\u001b[0m_prun_fn\u001b[0m\u001b[0;34m,\u001b[0m \u001b[0mself\u001b[0m\u001b[0;34m.\u001b[0m\u001b[0m_session\u001b[0m\u001b[0;34m,\u001b[0m \u001b[0mhandle\u001b[0m\u001b[0;34m,\u001b[0m \u001b[0mfeeds\u001b[0m\u001b[0;34m,\u001b[0m \u001b[0mfetches\u001b[0m\u001b[0;34m)\u001b[0m\u001b[0;34m\u001b[0m\u001b[0m\n",
      "\u001b[0;32m/Users/terrycho/anaconda/envs/tensorflow13/lib/python2.7/site-packages/tensorflow/python/client/session.pyc\u001b[0m in \u001b[0;36m_do_call\u001b[0;34m(self, fn, *args)\u001b[0m\n\u001b[1;32m   1338\u001b[0m         \u001b[0;32mexcept\u001b[0m \u001b[0mKeyError\u001b[0m\u001b[0;34m:\u001b[0m\u001b[0;34m\u001b[0m\u001b[0m\n\u001b[1;32m   1339\u001b[0m           \u001b[0;32mpass\u001b[0m\u001b[0;34m\u001b[0m\u001b[0m\n\u001b[0;32m-> 1340\u001b[0;31m       \u001b[0;32mraise\u001b[0m \u001b[0mtype\u001b[0m\u001b[0;34m(\u001b[0m\u001b[0me\u001b[0m\u001b[0;34m)\u001b[0m\u001b[0;34m(\u001b[0m\u001b[0mnode_def\u001b[0m\u001b[0;34m,\u001b[0m \u001b[0mop\u001b[0m\u001b[0;34m,\u001b[0m \u001b[0mmessage\u001b[0m\u001b[0;34m)\u001b[0m\u001b[0;34m\u001b[0m\u001b[0m\n\u001b[0m\u001b[1;32m   1341\u001b[0m \u001b[0;34m\u001b[0m\u001b[0m\n\u001b[1;32m   1342\u001b[0m   \u001b[0;32mdef\u001b[0m \u001b[0m_extend_graph\u001b[0m\u001b[0;34m(\u001b[0m\u001b[0mself\u001b[0m\u001b[0;34m)\u001b[0m\u001b[0;34m:\u001b[0m\u001b[0;34m\u001b[0m\u001b[0m\n",
      "\u001b[0;31mNotFoundError\u001b[0m: /Users/terrycho/Downloads/data\\%2Ftfrecords\\%2Fcifar-10-00007-of-00030.tfrecord\n\t [[Node: ReaderReadV2_4 = ReaderReadV2[_device=\"/job:localhost/replica:0/task:0/cpu:0\"](TFRecordReaderV2_4, input_producer_4)]]\n\nCaused by op u'ReaderReadV2_4', defined at:\n  File \"/Users/terrycho/anaconda/envs/tensorflow13/lib/python2.7/runpy.py\", line 174, in _run_module_as_main\n    \"__main__\", fname, loader, pkg_name)\n  File \"/Users/terrycho/anaconda/envs/tensorflow13/lib/python2.7/runpy.py\", line 72, in _run_code\n    exec code in run_globals\n  File \"/Users/terrycho/anaconda/envs/tensorflow13/lib/python2.7/site-packages/ipykernel_launcher.py\", line 16, in <module>\n    app.launch_new_instance()\n  File \"/Users/terrycho/anaconda/envs/tensorflow13/lib/python2.7/site-packages/traitlets/config/application.py\", line 658, in launch_instance\n    app.start()\n  File \"/Users/terrycho/anaconda/envs/tensorflow13/lib/python2.7/site-packages/ipykernel/kernelapp.py\", line 477, in start\n    ioloop.IOLoop.instance().start()\n  File \"/Users/terrycho/anaconda/envs/tensorflow13/lib/python2.7/site-packages/zmq/eventloop/ioloop.py\", line 177, in start\n    super(ZMQIOLoop, self).start()\n  File \"/Users/terrycho/anaconda/envs/tensorflow13/lib/python2.7/site-packages/tornado/ioloop.py\", line 888, in start\n    handler_func(fd_obj, events)\n  File \"/Users/terrycho/anaconda/envs/tensorflow13/lib/python2.7/site-packages/tornado/stack_context.py\", line 277, in null_wrapper\n    return fn(*args, **kwargs)\n  File \"/Users/terrycho/anaconda/envs/tensorflow13/lib/python2.7/site-packages/zmq/eventloop/zmqstream.py\", line 440, in _handle_events\n    self._handle_recv()\n  File \"/Users/terrycho/anaconda/envs/tensorflow13/lib/python2.7/site-packages/zmq/eventloop/zmqstream.py\", line 472, in _handle_recv\n    self._run_callback(callback, msg)\n  File \"/Users/terrycho/anaconda/envs/tensorflow13/lib/python2.7/site-packages/zmq/eventloop/zmqstream.py\", line 414, in _run_callback\n    callback(*args, **kwargs)\n  File \"/Users/terrycho/anaconda/envs/tensorflow13/lib/python2.7/site-packages/tornado/stack_context.py\", line 277, in null_wrapper\n    return fn(*args, **kwargs)\n  File \"/Users/terrycho/anaconda/envs/tensorflow13/lib/python2.7/site-packages/ipykernel/kernelbase.py\", line 283, in dispatcher\n    return self.dispatch_shell(stream, msg)\n  File \"/Users/terrycho/anaconda/envs/tensorflow13/lib/python2.7/site-packages/ipykernel/kernelbase.py\", line 235, in dispatch_shell\n    handler(stream, idents, msg)\n  File \"/Users/terrycho/anaconda/envs/tensorflow13/lib/python2.7/site-packages/ipykernel/kernelbase.py\", line 399, in execute_request\n    user_expressions, allow_stdin)\n  File \"/Users/terrycho/anaconda/envs/tensorflow13/lib/python2.7/site-packages/ipykernel/ipkernel.py\", line 196, in do_execute\n    res = shell.run_cell(code, store_history=store_history, silent=silent)\n  File \"/Users/terrycho/anaconda/envs/tensorflow13/lib/python2.7/site-packages/ipykernel/zmqshell.py\", line 533, in run_cell\n    return super(ZMQInteractiveShell, self).run_cell(*args, **kwargs)\n  File \"/Users/terrycho/anaconda/envs/tensorflow13/lib/python2.7/site-packages/IPython/core/interactiveshell.py\", line 2717, in run_cell\n    interactivity=interactivity, compiler=compiler, result=result)\n  File \"/Users/terrycho/anaconda/envs/tensorflow13/lib/python2.7/site-packages/IPython/core/interactiveshell.py\", line 2827, in run_ast_nodes\n    if self.run_code(code, result):\n  File \"/Users/terrycho/anaconda/envs/tensorflow13/lib/python2.7/site-packages/IPython/core/interactiveshell.py\", line 2881, in run_code\n    exec(code_obj, self.user_global_ns, self.user_ns)\n  File \"<ipython-input-8-b2882fc8e5a6>\", line 48, in <module>\n    main()\n  File \"<ipython-input-8-b2882fc8e5a6>\", line 28, in main\n    encoded,label = readRecord(filename_queue)\n  File \"<ipython-input-8-b2882fc8e5a6>\", line 12, in readRecord\n    _,serialized_example = reader.read(filename_queue)\n  File \"/Users/terrycho/anaconda/envs/tensorflow13/lib/python2.7/site-packages/tensorflow/python/ops/io_ops.py\", line 194, in read\n    return gen_io_ops._reader_read_v2(self._reader_ref, queue_ref, name=name)\n  File \"/Users/terrycho/anaconda/envs/tensorflow13/lib/python2.7/site-packages/tensorflow/python/ops/gen_io_ops.py\", line 423, in _reader_read_v2\n    queue_handle=queue_handle, name=name)\n  File \"/Users/terrycho/anaconda/envs/tensorflow13/lib/python2.7/site-packages/tensorflow/python/framework/op_def_library.py\", line 767, in apply_op\n    op_def=op_def)\n  File \"/Users/terrycho/anaconda/envs/tensorflow13/lib/python2.7/site-packages/tensorflow/python/framework/ops.py\", line 2630, in create_op\n    original_op=self._default_original_op, op_def=op_def)\n  File \"/Users/terrycho/anaconda/envs/tensorflow13/lib/python2.7/site-packages/tensorflow/python/framework/ops.py\", line 1204, in __init__\n    self._traceback = self._graph._extract_stack()  # pylint: disable=protected-access\n\nNotFoundError (see above for traceback): /Users/terrycho/Downloads/data\\%2Ftfrecords\\%2Fcifar-10-00007-of-00030.tfrecord\n\t [[Node: ReaderReadV2_4 = ReaderReadV2[_device=\"/job:localhost/replica:0/task:0/cpu:0\"](TFRecordReaderV2_4, input_producer_4)]]\n"
     ]
    }
   ],
   "source": [
    "# read tfrecord and print image and label\n",
    "\n",
    "import tensorflow as tf\n",
    "from PIL import Image\n",
    "import io\n",
    "import matplotlib.pyplot as plt\n",
    "\n",
    "#tfrecord_filename = DES_DIR+'cifar-10-00000-of-00010.tfrecord'\n",
    "tfrecord_filename = '/Users/terrycho/Downloads/data-tfrecords-cifar-10-00007-of-00030.tfrecord'\n",
    "def readRecord(filename_queue):\n",
    "    reader = tf.TFRecordReader()\n",
    "    _,serialized_example = reader.read(filename_queue)\n",
    "    \n",
    "    keys_to_features = {\n",
    "      'image_raw': tf.FixedLenFeature((), tf.string, default_value=''),\n",
    "      'label': tf.VarLenFeature(tf.int64),\n",
    "    }\n",
    "    \n",
    "    features = tf.parse_single_example(serialized_example,features= keys_to_features)\n",
    "    \n",
    "    encoded = tf.cast(features['image_raw'],tf.string)\n",
    "    label = tf.cast(features['label'],tf.int64)\n",
    "\n",
    "    return encoded,label\n",
    "    \n",
    "def main():\n",
    "     filename_queue = tf.train.string_input_producer([tfrecord_filename])\n",
    "     encoded,label = readRecord(filename_queue)\n",
    "     \n",
    "     init_op = tf.global_variables_initializer()\n",
    "\n",
    "     with tf.Session() as sess:\n",
    "         sess.run(init_op)\n",
    "    \n",
    "         coord = tf.train.Coordinator()\n",
    "         threads = tf.train.start_queue_runners(coord=coord)\n",
    "\n",
    "         for i in range(0,3):\n",
    "             encoded_value,label_value = sess.run([encoded,label])\n",
    "             image = Image.open(io.BytesIO(encoded_value))\n",
    "             plt.imshow(image)\n",
    "             plt.show()\n",
    "             print('Label : '+str(label_value))\n",
    "\n",
    "         coord.request_stop()\n",
    "         coord.join(threads)\n",
    "         \n",
    "main()"
   ]
  },
  {
   "cell_type": "code",
   "execution_count": null,
   "metadata": {
    "collapsed": true
   },
   "outputs": [],
   "source": []
  }
 ],
 "metadata": {
  "kernelspec": {
   "display_name": "Python 2",
   "language": "python",
   "name": "python2"
  },
  "language_info": {
   "codemirror_mode": {
    "name": "ipython",
    "version": 2
   },
   "file_extension": ".py",
   "mimetype": "text/x-python",
   "name": "python",
   "nbconvert_exporter": "python",
   "pygments_lexer": "ipython2",
   "version": "2.7.13"
  }
 },
 "nbformat": 4,
 "nbformat_minor": 2
}
